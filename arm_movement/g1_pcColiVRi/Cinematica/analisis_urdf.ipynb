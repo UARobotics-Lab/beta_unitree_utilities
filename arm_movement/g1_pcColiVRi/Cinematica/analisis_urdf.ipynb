{
 "cells": [
  {
   "cell_type": "code",
   "execution_count": 1,
   "id": "d9c5a047",
   "metadata": {},
   "outputs": [],
   "source": [
    "#!pip install urdfpy\n",
    "from xml.etree import ElementTree as ET\n",
    "import numpy as np\n",
    "#from urdfpy import URDF"
   ]
  },
  {
   "cell_type": "code",
   "execution_count": null,
   "id": "4d4646b0",
   "metadata": {},
   "outputs": [],
   "source": [
    "'''\n",
    "robot = URDF.load('tu_robot.urdf')\n",
    "for joint in robot.joints:\n",
    "    print(joint.name, joint.origin, joint.axis)\n",
    "'''"
   ]
  },
  {
   "cell_type": "code",
   "execution_count": 2,
   "id": "3d8057b9",
   "metadata": {},
   "outputs": [],
   "source": [
    "# Cargar el URDF como XML y analizar las juntas (joints)\n",
    "tree = ET.parse('g1_29dof.urdf')\n",
    "root = tree.getroot()"
   ]
  },
  {
   "cell_type": "code",
   "execution_count": 3,
   "id": "7c3071b0",
   "metadata": {},
   "outputs": [],
   "source": [
    "# Filtrar solo las articulaciones relevantes para el brazo (heurística por nombre)\n",
    "relevant_keywords = ['shoulder', 'elbow', 'wrist']\n",
    "arm_joints_full = []\n",
    "\n",
    "for joint in root.findall('joint'):\n",
    "    joint_name = joint.attrib.get('name', '')\n",
    "    if any(k in joint_name.lower() for k in relevant_keywords):\n",
    "        parent = joint.find('parent').attrib['link']\n",
    "        child = joint.find('child').attrib['link']\n",
    "        origin_tag = joint.find('origin')\n",
    "        axis_tag = joint.find('axis')\n",
    "        origin = origin_tag.attrib if origin_tag is not None else {}\n",
    "        axis = axis_tag.attrib if axis_tag is not None else {}\n",
    "        arm_joints_full.append({\n",
    "            'name': joint_name,\n",
    "            'parent': parent,\n",
    "            'child': child,\n",
    "            'origin': origin,\n",
    "            'axis': axis\n",
    "        })\n",
    "\n",
    "#arm_joints_full"
   ]
  },
  {
   "cell_type": "code",
   "execution_count": 4,
   "id": "54da1946",
   "metadata": {},
   "outputs": [
    {
     "data": {
      "text/plain": [
       "[{'name': 'left_shoulder_pitch_joint',\n",
       "  'xyz': array([0.0039563, 0.10022  , 0.23778  ]),\n",
       "  'rpy': array([ 2.7931e-01,  5.4949e-05, -1.9159e-04]),\n",
       "  'axis': array([0., 1., 0.])},\n",
       " {'name': 'left_shoulder_roll_joint',\n",
       "  'xyz': array([ 0.      ,  0.038   , -0.013831]),\n",
       "  'rpy': array([-0.27925,  0.     ,  0.     ]),\n",
       "  'axis': array([1., 0., 0.])},\n",
       " {'name': 'left_shoulder_yaw_joint',\n",
       "  'xyz': array([ 0.     ,  0.00624, -0.1032 ]),\n",
       "  'rpy': array([0., 0., 0.]),\n",
       "  'axis': array([0., 0., 1.])},\n",
       " {'name': 'left_elbow_joint',\n",
       "  'xyz': array([ 0.015783,  0.      , -0.080518]),\n",
       "  'rpy': array([0., 0., 0.]),\n",
       "  'axis': array([0., 1., 0.])},\n",
       " {'name': 'left_wrist_roll_joint',\n",
       "  'xyz': array([ 0.1       ,  0.00188791, -0.01      ]),\n",
       "  'rpy': array([0., 0., 0.]),\n",
       "  'axis': array([1., 0., 0.])},\n",
       " {'name': 'left_wrist_pitch_joint',\n",
       "  'xyz': array([0.038, 0.   , 0.   ]),\n",
       "  'rpy': array([0., 0., 0.]),\n",
       "  'axis': array([0., 1., 0.])},\n",
       " {'name': 'left_wrist_yaw_joint',\n",
       "  'xyz': array([0.046, 0.   , 0.   ]),\n",
       "  'rpy': array([0., 0., 0.]),\n",
       "  'axis': array([0., 0., 1.])}]"
      ]
     },
     "execution_count": 4,
     "metadata": {},
     "output_type": "execute_result"
    }
   ],
   "source": [
    "# Función auxiliar para convertir strings 'xyz' y 'rpy' en arrays numéricos\n",
    "def parse_origin(origin_dict):\n",
    "    xyz = np.fromstring(origin_dict.get('xyz', '0 0 0'), sep=' ')\n",
    "    rpy = np.fromstring(origin_dict.get('rpy', '0 0 0'), sep=' ')\n",
    "    return xyz, rpy\n",
    "\n",
    "# Filtrar solo las articulaciones del brazo izquierdo en orden desde hombro hasta muñeca\n",
    "left_arm_joint_names = [\n",
    "    'left_shoulder_pitch_joint',\n",
    "    'left_shoulder_roll_joint',\n",
    "    'left_shoulder_yaw_joint',\n",
    "    'left_elbow_joint',\n",
    "    'left_wrist_roll_joint',\n",
    "    'left_wrist_pitch_joint',\n",
    "    'left_wrist_yaw_joint'\n",
    "]\n",
    "\n",
    "# Extraer los parámetros relevantes para las articulaciones del brazo izquierdo\n",
    "left_arm_dh_data = []\n",
    "for joint_name in left_arm_joint_names:\n",
    "    joint = next(j for j in arm_joints_full if j['name'] == joint_name)\n",
    "    xyz, rpy = parse_origin(joint['origin'])\n",
    "    axis = np.fromstring(joint['axis'].get('xyz', '0 0 0'), sep=' ')\n",
    "    \n",
    "    left_arm_dh_data.append({\n",
    "        'name': joint_name,\n",
    "        'xyz': xyz,\n",
    "        'rpy': rpy,\n",
    "        'axis': axis\n",
    "    })\n",
    "\n",
    "left_arm_dh_data"
   ]
  }
 ],
 "metadata": {
  "kernelspec": {
   "display_name": "Python 3",
   "language": "python",
   "name": "python3"
  },
  "language_info": {
   "codemirror_mode": {
    "name": "ipython",
    "version": 3
   },
   "file_extension": ".py",
   "mimetype": "text/x-python",
   "name": "python",
   "nbconvert_exporter": "python",
   "pygments_lexer": "ipython3",
   "version": "3.9.13"
  }
 },
 "nbformat": 4,
 "nbformat_minor": 5
}
